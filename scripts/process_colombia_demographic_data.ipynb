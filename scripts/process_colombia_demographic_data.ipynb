{
 "cells": [
  {
   "cell_type": "markdown",
   "metadata": {},
   "source": [
    "# Modules"
   ]
  },
  {
   "cell_type": "code",
   "execution_count": 1,
   "metadata": {},
   "outputs": [],
   "source": [
    "import pandas as pd\n",
    "from io import StringIO\n",
    "import numpy as np\n",
    "import re"
   ]
  },
  {
   "cell_type": "markdown",
   "metadata": {},
   "source": [
    "# Variables"
   ]
  },
  {
   "cell_type": "code",
   "execution_count": 2,
   "metadata": {},
   "outputs": [],
   "source": [
    "input_folder = '../data/raw_data/popdata'\n",
    "output_folder = '../data/processed_data/popdata'"
   ]
  },
  {
   "cell_type": "markdown",
   "metadata": {},
   "source": [
    "# Process data"
   ]
  },
  {
   "cell_type": "code",
   "execution_count": 3,
   "metadata": {},
   "outputs": [],
   "source": [
    "year = 2018"
   ]
  },
  {
   "cell_type": "markdown",
   "metadata": {},
   "source": [
    "## Population data"
   ]
  },
  {
   "cell_type": "code",
   "execution_count": 7,
   "metadata": {},
   "outputs": [],
   "source": [
    "df_raw_dane_data = pd.read_excel(f'{input_folder}/Edades_Simples_1985-2020.xls', sheet_name='Total')\n",
    "\n",
    "df_raw_dane_data.to_csv('tmp_raw_dane_data', index=False)\n",
    "with open('tmp_raw_dane_data', 'r') as file:\n",
    "    data = file.readlines()"
   ]
  },
  {
   "cell_type": "code",
   "execution_count": 8,
   "metadata": {},
   "outputs": [],
   "source": [
    "line_increment = 19\n",
    "init_line = 11\n",
    "pivot_line = init_line\n",
    "\n",
    "years     = [line.strip().split(',') for line in data[init_line-2 : init_line - 1]]\n",
    "years     = np.sort(np.unique(years))\n",
    "correct_column_name = np.append(['Codigo', 'Grupos de edad'], np.array([(f'Total_{year}', f'Hombres_{year}', f'Mujeres_{year}') for year in years[years!='']]).flatten())\n",
    "\n",
    "pattern = r'^([^,]+),'\n",
    "df_pop = pd.DataFrame({})\n",
    "while True:\n",
    "    match  = re.search(pattern, data[pivot_line])\n",
    "    codigo = match.group(1)\n",
    "    ##print(codigo)\n",
    "    if 'DANE' in codigo:\n",
    "        break\n",
    "\n",
    "    data_rows = [line.strip().split(',') for line in data[pivot_line   : pivot_line + line_increment]]\n",
    "    columns   = [line.strip().split(',') for line in data[pivot_line-1 : pivot_line]]\n",
    "\n",
    "    df_ = pd.DataFrame(data_rows[1:], columns=correct_column_name).melt(id_vars=[\"Codigo\", \"Grupos de edad\"]).rename(columns={'Grupos de edad':'AgeGroup',                                                                                                                    \n",
    "                                                                                                                              'Codigo':'Code',\n",
    "                                                                                                                              'value':'Pop'})\n",
    "    df_['Year']     = df_.variable.str[-4:]\n",
    "    df_['Gender']   = df_.variable.str[:-5].replace('Mujeres', 'Female').replace('Hombres', 'Male')\n",
    "    df_['AgeGroup'] = df_['AgeGroup'].replace('80 Y MÁS', '80-above')\n",
    "    df_['Code']     = codigo[:2]\n",
    "    df_['Zone']     = codigo\n",
    "    del df_['variable']\n",
    "\n",
    "    df_pop = pd.concat([df_pop, df_]).reset_index(drop=True)\n",
    "\n",
    "    pivot_line += line_increment"
   ]
  },
  {
   "cell_type": "code",
   "execution_count": 10,
   "metadata": {},
   "outputs": [],
   "source": [
    "df_pop = df_pop[df_pop['AgeGroup'] != 'Total']\n",
    "df_pop[['MinAge', 'MaxAge']] = df_pop['AgeGroup'].str.split('-', expand=True)\n",
    "df_pop['MaxAge'] = df_pop['MaxAge'].replace('above', '200')"
   ]
  },
  {
   "cell_type": "code",
   "execution_count": 11,
   "metadata": {},
   "outputs": [],
   "source": [
    "df_pop.to_csv(f'{output_folder}/colombia_population_data_municp.csv', index=False)"
   ]
  },
  {
   "cell_type": "markdown",
   "metadata": {},
   "source": [
    "## Household data"
   ]
  },
  {
   "cell_type": "code",
   "execution_count": 64,
   "metadata": {},
   "outputs": [],
   "source": [
    "with open(f'{input_folder}/Personas_por_hogar.csv', 'r') as file:\n",
    "    lines = file.readlines()"
   ]
  },
  {
   "cell_type": "code",
   "execution_count": 65,
   "metadata": {},
   "outputs": [],
   "source": [
    "pattern_code = r'AREA # (\\d+)'\n",
    "pattern_name = r',([A-ZÑ\\s]+|\"[A-ZÑ\\s,]+\")\\s*-?\\s*([A-ZÑ\\s]+|\"[A-ZÑ\\s,]+\"),'"
   ]
  },
  {
   "cell_type": "code",
   "execution_count": 66,
   "metadata": {},
   "outputs": [],
   "source": [
    "# Identify the start and end points of the tables\n",
    "start_indices  = [i for i, line in enumerate(lines) if 'AREA #' in line]\n",
    "end_indices    = [i for i, line in enumerate(lines) if 'Total' in line]\n",
    "codigos_municp = [re.search(pattern_code, line).group(1) for i, line in enumerate(lines) if 'AREA #' in line]\n",
    "codigos_depart = [code_municp[:2] for code_municp in codigos_municp]\n",
    "names_depart   = [re.search(pattern_name, line.replace('\"','').replace(' - ',' ')).group(1) for i, line in enumerate(lines) if 'AREA #' in line]\n",
    "names_municp   = [re.search(pattern_name, line.replace('\"','').replace(' - ',' ')).group(2) for i, line in enumerate(lines) if 'AREA #' in line]\n",
    "\n",
    "dataframes = []\n",
    "\n",
    "# Extract tables and read into dataframes\n",
    "for start, end, code_depart, code_municp, name_depart, name_municp in zip(start_indices, end_indices, codigos_depart, codigos_municp, names_depart, names_municp):\n",
    "    table_str = ''.join(lines[start:end]).strip()\n",
    "    # Check if there's content to parse\n",
    "    if 'Personas por Hogar' in table_str:\n",
    "        table_start = table_str.index('Personas por Hogar')\n",
    "        df = (pd.read_csv(StringIO(table_str[table_start:]), sep=',')\n",
    "                                                                    .reset_index(drop=True)\n",
    "                                                                    .rename(columns={'Personas por Hogar':'PersonsHousehold',\n",
    "                                                                                     'Casos':'NumHouses'}))[['PersonsHousehold', 'NumHouses']]\n",
    "        df['Year'] = year\n",
    "        df['Code'] = code_depart\n",
    "        df['Zone'] = code_municp\n",
    "        df['Departamento']    = name_depart\n",
    "        df['Municipio']       = name_municp\n",
    "        dataframes.append(df)"
   ]
  },
  {
   "cell_type": "code",
   "execution_count": 67,
   "metadata": {},
   "outputs": [],
   "source": [
    "df_household = pd.concat(dataframes)[[\"Code\",\"Zone\",\"NumHouses\",\"PersonsHousehold\",\"Year\", 'Departamento', 'Municipio']]\n",
    "df_household['NumHouses'] = df_household['NumHouses'].astype(str).str.replace(' ','',regex=True).astype(int)"
   ]
  },
  {
   "cell_type": "code",
   "execution_count": 70,
   "metadata": {},
   "outputs": [],
   "source": [
    "df_household.to_csv(f'{output_folder}/colombia_household_composition_municp.csv', index=False)"
   ]
  }
 ],
 "metadata": {
  "kernelspec": {
   "display_name": "base",
   "language": "python",
   "name": "python3"
  },
  "language_info": {
   "codemirror_mode": {
    "name": "ipython",
    "version": 3
   },
   "file_extension": ".py",
   "mimetype": "text/x-python",
   "name": "python",
   "nbconvert_exporter": "python",
   "pygments_lexer": "ipython3",
   "version": "3.10.12"
  },
  "orig_nbformat": 4
 },
 "nbformat": 4,
 "nbformat_minor": 2
}
